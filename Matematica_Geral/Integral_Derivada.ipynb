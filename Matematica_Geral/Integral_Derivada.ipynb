{
 "cells": [
  {
   "cell_type": "markdown",
   "metadata": {},
   "source": [
    "Os códigos abaixo servem para calcular integrais e derivadas de funções utilizando bibliotecas diferentes, sendo elas a biblioteca Numpy e Sympy. A biblioteca Numpy realiza cálculos de forma numérica, enquanto que a Sympy calcula de forma simbólica.\n",
    "\n",
    "Lembre-se de exercutar o código de importação das bibliotecas antes de executar outros comandos.\n",
    "\n",
    "Além disso, não esqueça de trocar as funções a serem calculadas e, quando houver, os limites de integração $a$ e $b$"
   ]
  },
  {
   "cell_type": "code",
   "execution_count": 1,
   "metadata": {},
   "outputs": [],
   "source": [
    "import numpy as np\n",
    "import sympy as smp"
   ]
  },
  {
   "cell_type": "code",
   "execution_count": 2,
   "metadata": {},
   "outputs": [
    {
     "name": "stdout",
     "output_type": "stream",
     "text": [
      "Função:\n",
      "    4       3        2\n",
      "1 x - 0.6 x + 4.59 x - 0.36 x - 0.3671\n",
      "\n",
      "Derivada:\n",
      "    3       2\n",
      "4 x - 1.8 x + 9.18 x - 0.36\n",
      "\n",
      "Integral:\n",
      "      5        4        3        2\n",
      "0.2 x - 0.15 x + 1.53 x - 0.18 x - 0.3671 x\n"
     ]
    }
   ],
   "source": [
    "# NUMPY (NÃO É POSSÍVEL TRABALHAR COM 2 OU MAIS VARIÁVEIS)\n",
    "\n",
    "f = np.poly1d([1, -0.6, (0.59 + 2**2), (-0.6**2), (- 0.5**2 - 0.05 - 0.0671)])  # Função (Cada valor equivale a um termo da função)\n",
    "# (APENAS FUNÇÕES POLINOMIAIS)\n",
    "\n",
    "df = np.polyder(f, 1)  # Calcula a primeira derivada da função (Trocar o número dentro dos parênteses para demais ordens)\n",
    "\n",
    "F = np.polyint(f, 1)  # Calcula a primeira integral da função (Trocar o número dentro dos parênteses para demais ordens)\n",
    "\n",
    "print(f'Função:\\n {f}\\n')\n",
    "#print(f'\\nFunção com variável substituída:\\n {f(2)}')\n",
    "\n",
    "print(f'Derivada:\\n {df}\\n')\n",
    "#print(f'\\nDerivada com variável substituída:\\n {df(2)}')\n",
    "\n",
    "print(f'Integral:\\n {F}')\n",
    "#print(f'\\nIntegral com variável substituída:\\n {F(2)}')"
   ]
  },
  {
   "cell_type": "code",
   "execution_count": 3,
   "metadata": {},
   "outputs": [
    {
     "name": "stdout",
     "output_type": "stream",
     "text": [
      "Função:\n",
      " exp(2*x)*sin(3*x)\n",
      "\n",
      "Derivada:\n",
      " 2*exp(2*x)*sin(3*x) + 3*exp(2*x)*cos(3*x)\n",
      "\n",
      "Integral indefinida:\n",
      " 2*exp(2*x)*sin(3*x)/13 - 3*exp(2*x)*cos(3*x)/13\n"
     ]
    }
   ],
   "source": [
    "# SYMPY (1 VARIÁVEL)\n",
    "\n",
    "x = smp.symbols('x')   # Declarar variável simbólica\n",
    "\n",
    "f = (smp.exp(2*x))*(smp.sin(3*x))   # Função\n",
    "f_numer = smp.lambdify(x,f)   # Transforma de simbólica para numérica (Para substituir valores na variável)\n",
    "\n",
    "df = smp.diff(f,x)    # Calcula a derivada da função\n",
    "df_numer = smp.lambdify(x,df)   # Transforma de simbólica para numérica (Para substituir valores na variável)\n",
    "\n",
    "Find = smp.integrate(f,x)  # Calcula a integral indefinida da função\n",
    "Find_numer = smp.lambdify(x,Find)\n",
    "\n",
    "a = 0   # Limitante inferior da integral\n",
    "b = 1   # Limitante superior da integral\n",
    "Fdef = smp.integrate(f,(x,a,b)).evalf()   # Calcula a integral definida da função (O comando .evalf serve para deixar o resultado em decimal)\n",
    "\n",
    "\n",
    "print(f'Função:\\n {f}')\n",
    "#print(f'\\nFunção com variável substituída:\\n {f_numer(2)}')\n",
    "\n",
    "print(f'\\nDerivada:\\n {df}')\n",
    "#print(f'\\nDerivada com variável substituída:\\n {df_numer(2)}')\n",
    "\n",
    "print(f'\\nIntegral indefinida:\\n {Find}')\n",
    "#print(f'\\nIntegral indefinida com variável substituída:\\n {Find_numer(2)}')\n",
    "\n",
    "#print(f'\\nIntegral definida:\\n {Fdef}')"
   ]
  },
  {
   "cell_type": "code",
   "execution_count": 4,
   "metadata": {},
   "outputs": [
    {
     "name": "stdout",
     "output_type": "stream",
     "text": [
      "Função:\n",
      " x*y - y**2 + 3.5\n",
      "\n",
      "Derivada geral:\n",
      " x - y\n",
      "\n",
      "Integral indefinida:\n",
      " 0.5*x**2*y + 0.5*x*y**2 + x*(3.5 - 1.0*y**2) - 0.333333333333333*y**3 + 3.5*y\n"
     ]
    }
   ],
   "source": [
    "# SYMPY (2 VARIÁVEIS)\n",
    "\n",
    "x, y = smp.symbols('x y')   # Declarar variáveis simbólicas\n",
    "\n",
    "f = x*y - y**2 + 3.5   # Função\n",
    "f_numer = smp.lambdify((x,y),f)    # Transforma de simbólica para numérica (Para substituir valores na variável)\n",
    "\n",
    "dfx = smp.diff(f,x)    # Calcula a derivada parcial em relação à X\n",
    "dfy = smp.diff(f,y)    # Calcula a derivada parcial em relação à Y\n",
    "df = smp.diff(f,x) + smp.diff(f,y)   # Calcula as derivadas parciais da função\n",
    "df_numer = smp.lambdify((x,y),df)    # Transforma de simbólica para numérica (Para substituir valores na variável)\n",
    "\n",
    "Findx = smp.integrate(f,x)   # Calcula a integral indefinida em relação a X\n",
    "Findy = smp.integrate(f,y)   # Calcula a integral indefinida em relação a Y\n",
    "Find = Findx + Findy   # Calcula a integral indefinida geral\n",
    "Find_numer = smp.lambdify((x,y),Find)  # Transforma de simbólica para numérica (Para substituir valores na variável)\n",
    "\n",
    "a = 0   # Limitante inferior da integral\n",
    "b = 1   # Limitante superior da integral\n",
    "Fdefx = smp.integrate(f,(x,a,b)).evalf()   # Calcula a integral definida em X (O comando .evalf serve para deixar o resultado em decimal)\n",
    "Fdefy = smp.integrate(f,(y,a,b)).evalf()   # Calcula a integral definida em Y (O comando .evalf serve para deixar o resultado em decimal)\n",
    "Fdef = Fdefx + Fdefy   # Calcula a integral definida geral\n",
    "Fdef_numer = smp.lambdify((x,y),Fdef)   # Transforma de simbólica para numérica (Para substituir valores na variável)\n",
    "\n",
    "\n",
    "print(f'Função:\\n {f}')\n",
    "#print(f'\\nFunção com variáveis substituídas:\\n {f_numer(2,2)}')\n",
    "\n",
    "#print(f'\\nDerivada (x):\\n {dfx}')\n",
    "#print(f'\\nDerivada (y):\\n {dfy}')\n",
    "print(f'\\nDerivada geral:\\n {df}')\n",
    "#print(f'\\nDerivada com variáveis substituídas:\\n {df_numer(2,2)}')\n",
    "\n",
    "#print(f'\\nIntegral indefinida (x):\\n {Findx}')\n",
    "#print(f'\\nIntegral indefinida (y):\\n {Findy}')\n",
    "print(f'\\nIntegral indefinida:\\n {Find}')\n",
    "#print(f'\\nIntegral indefinida com variáveis substituídas:\\n {Find_numer(2,2)}')\n",
    "\n",
    "#print(f'\\nIntegral definida (x):\\n {Fdefx}')\n",
    "#print(f'\\nIntegral definida (y):\\n {Fdefy}')\n",
    "#print(f'\\nIntegral definida:\\n {Fdef}')\n",
    "#print(f'\\nIntegral definida com variáveis substituídas:\\n {Fdef_numer(2,2)}')"
   ]
  }
 ],
 "metadata": {
  "kernelspec": {
   "display_name": "Python 3",
   "language": "python",
   "name": "python3"
  },
  "language_info": {
   "codemirror_mode": {
    "name": "ipython",
    "version": 3
   },
   "file_extension": ".py",
   "mimetype": "text/x-python",
   "name": "python",
   "nbconvert_exporter": "python",
   "pygments_lexer": "ipython3",
   "version": "3.13.2"
  }
 },
 "nbformat": 4,
 "nbformat_minor": 2
}
