{
 "cells": [
  {
   "cell_type": "code",
   "execution_count": 2,
   "metadata": {},
   "outputs": [],
   "source": [
    "import numpy as np\n",
    "import sympy as sp"
   ]
  },
  {
   "cell_type": "code",
   "execution_count": 3,
   "metadata": {},
   "outputs": [
    {
     "name": "stdout",
     "output_type": "stream",
     "text": [
      "A aproximação para y(1) usando método de Euler é: 2.274379395284459\n",
      "A aproximação para y(1) usando método de Taylor é: 2.279396496501644\n",
      "A aproximação para y(1) usando método de Runge-Kutta é: 2.2789196028995233\n"
     ]
    }
   ],
   "source": [
    "# MÉTODO DE EULER\n",
    "\n",
    "def f(x,y):         #FUNÇÃO PRINCIPAL\n",
    "  return x*y - pow(y,2) + 3.5\n",
    "\n",
    "ye = yt = yr = y0 = 1.9\n",
    "x0 = 0\n",
    "h = 0.1\n",
    "xf = 1\n",
    "\n",
    "for i in np.arange(xf/h):\n",
    "  y = ye + h*f(x0+i*h,ye)\n",
    "  ye = y\n",
    "\n",
    "print(f'A aproximação para y({xf}) usando método de Euler é: {y}')\n",
    "\n",
    "\n",
    "#~~~~~~~~~~~~~~~~~~~~~~~~~~~~~~~~~~~~~~~~~~~~~~~~~~~~~~~~~~~~~~~~~~\n",
    "\n",
    "# MÉTODO DE TAYLOR (2ª ORDEM)\n",
    "\n",
    "def f_1(x,y):          #CORRIGIR O VALOR INDEPENDENTE DE ACORDO COM O VALOR INDEPENDENTE DA FUNÇÃO PRINCIPAL\n",
    "  return y + ((x*y - pow(y,2) + 3.5)*(x - 2*y))\n",
    "\n",
    "for i in np.arange(xf/h):\n",
    "  y = yt + h*f(x0+i*h,yt) + (pow(h,2)/2)*f_1(x0+i*h,yt)\n",
    "  yt = y\n",
    "\n",
    "print(f'A aproximação para y({xf}) usando método de Taylor é: {y}')\n",
    "\n",
    "\n",
    "#~~~~~~~~~~~~~~~~~~~~~~~~~~~~~~~~~~~~~~~~~~~~~~~~~~~~~~~~~~~~~~~~~~~~\n",
    "\n",
    "# MÉTODO DE RUNGE-KUTTA (4ª ORDEM)\n",
    "\n",
    "for i in np.arange(xf/h):\n",
    "\n",
    "  k1 = h*f(x0+i*h,yr)\n",
    "\n",
    "  k2 = h*f((x0+i*h)+h/2,yr+k1/2)\n",
    "\n",
    "  k3 = h*f((x0+i*h)+h/2,yr+k2/2)\n",
    "\n",
    "  k4 = h*f((x0+i*h)+h,yr+k3)\n",
    "\n",
    "  y = yr + (k1 + 2*k2 + 2*k3 + k4)/6\n",
    "\n",
    "  yr = y\n",
    "\n",
    "print(f'A aproximação para y({xf}) usando método de Runge-Kutta é: {y}')"
   ]
  },
  {
   "cell_type": "code",
   "execution_count": 4,
   "metadata": {},
   "outputs": [
    {
     "name": "stdout",
     "output_type": "stream",
     "text": [
      "A aproximação para y(1) usando método de Euler é: 2.274379395284459\n",
      "A aproximação para y(1) usando método de Taylor é: 2.279396496501644\n",
      "A aproximação para y(1) usando método de Runge-Kutta é: 2.2789196028995233\n"
     ]
    }
   ],
   "source": [
    "x, y = sp.symbols('x y')\n",
    "\n",
    "ye = yt = yr = y0 = 1.9\n",
    "x0 = 0\n",
    "h = 0.1\n",
    "xf = 1\n",
    "\n",
    "# MÉTODO DE EULER\n",
    "\n",
    "f = x*y - y**2 + 3.5\n",
    "f_numer = sp.lambdify((x,y),f)\n",
    "\n",
    "for i in np.arange(xf/h):\n",
    "  res = ye + h*f_numer(x0+i*h,ye)\n",
    "  ye = res\n",
    "\n",
    "print(f'A aproximação para y({xf}) usando método de Euler é: {res}')\n",
    "\n",
    "#~~~~~~~~~~~~~~~~~~~~~~~~~~~~~~~~~~~~~~~~~~~~~~~~~~~~~~~~~~~~~~~~~~~~~~~~~~~~\n",
    "\n",
    "# MÉTODO DE TAYLOR (2ª ORDEM)\n",
    "\n",
    "f_1 = sp.diff(f,x) + sp.diff(f,y)*f\n",
    "f_1_numer = sp.lambdify((x,y),f_1)\n",
    "\n",
    "for i in np.arange(xf/h):\n",
    "  res = yt + h*f_numer(x0+i*h,yt) + (pow(h,2)/2)*f_1_numer(x0+i*h,yt)\n",
    "  yt = res\n",
    "\n",
    "print(f'A aproximação para y({xf}) usando método de Taylor é: {res}')\n",
    "\n",
    "#~~~~~~~~~~~~~~~~~~~~~~~~~~~~~~~~~~~~~~~~~~~~~~~~~~~~~~~~~~~~~~~~~~~~~~~~~~~~~\n",
    "\n",
    "# MÉTODO DE RUNGE-KUTTA (4ª ORDEM)\n",
    "\n",
    "for i in np.arange(xf/h):\n",
    "\n",
    "  k1 = h*f_numer(x0+i*h,yr)\n",
    "\n",
    "  k2 = h*f_numer((x0+i*h)+h/2,yr+k1/2)\n",
    "\n",
    "  k3 = h*f_numer((x0+i*h)+h/2,yr+k2/2)\n",
    "\n",
    "  k4 = h*f_numer((x0+i*h)+h,yr+k3)\n",
    "\n",
    "  res = yr + (k1 + 2*k2 + 2*k3 + k4)/6\n",
    "\n",
    "  yr = res\n",
    "\n",
    "print(f'A aproximação para y({xf}) usando método de Runge-Kutta é: {res}')"
   ]
  }
 ],
 "metadata": {
  "kernelspec": {
   "display_name": "Python 3",
   "language": "python",
   "name": "python3"
  },
  "language_info": {
   "codemirror_mode": {
    "name": "ipython",
    "version": 3
   },
   "file_extension": ".py",
   "mimetype": "text/x-python",
   "name": "python",
   "nbconvert_exporter": "python",
   "pygments_lexer": "ipython3",
   "version": "3.13.2"
  }
 },
 "nbformat": 4,
 "nbformat_minor": 2
}
