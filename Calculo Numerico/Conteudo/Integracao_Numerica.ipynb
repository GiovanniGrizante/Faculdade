{
 "cells": [
  {
   "cell_type": "code",
   "execution_count": 1,
   "metadata": {},
   "outputs": [],
   "source": [
    "import numpy as np\n",
    "import sympy as sp"
   ]
  },
  {
   "cell_type": "code",
   "execution_count": 2,
   "metadata": {},
   "outputs": [
    {
     "name": "stdout",
     "output_type": "stream",
     "text": [
      "O valor aproximado da integral é: 1.1254197707327298\n",
      "\n",
      "O valor exato da integral é: Integral(exp(x)/(x + 1), (x, 0, 1))\n"
     ]
    }
   ],
   "source": [
    "#REGRA DOS TRAPÉZIOS\n",
    "\n",
    "x = sp.symbols('x')\n",
    "\n",
    "f = sp.exp(x)/(x+1)\n",
    "f_numer = sp.lambdify(x,f)\n",
    "\n",
    "a = 0\n",
    "b = 1\n",
    "h = 1/41\n",
    "temp = 0\n",
    "\n",
    "for i in np.arange(a+h,b,h):\n",
    "  temp += f_numer(i)\n",
    "\n",
    "res = (h/2)*(f_numer(a) + 2*temp + f_numer(b))\n",
    "\n",
    "print(f'O valor aproximado da integral é: {res}')\n",
    "\n",
    "# COMPARAÇÃO COM O VALOR DA INTEGRAL\n",
    "\n",
    "F = sp.integrate(f,(x,a,b)).evalf()     # A função .evalf() é para deixar em decimal\n",
    "print(f'\\nO valor exato da integral é: {F}')\n",
    "\n",
    "# SE O VALOR NÃO APARECER, A INTEGRAL É NÃO ELEMENTAR"
   ]
  },
  {
   "cell_type": "code",
   "execution_count": 3,
   "metadata": {},
   "outputs": [
    {
     "name": "stdout",
     "output_type": "stream",
     "text": [
      "O valor aproximado da integral é: -14.183341561446696\n",
      "\n",
      "O valor exato da integral é: -14.2139771298625\n"
     ]
    }
   ],
   "source": [
    "#REGRA DE SIMPSON\n",
    "\n",
    "x = sp.symbols('x')\n",
    "\n",
    "f = (sp.exp(2*x))*(sp.sin(3*x))\n",
    "f_numer = sp.lambdify(x,f)\n",
    "\n",
    "a = 0\n",
    "b = 2\n",
    "n = 8\n",
    "h = (b-a)/n\n",
    "par = 0\n",
    "impar = 0\n",
    "\n",
    "for i in range(0,n,1): \n",
    "  if i%2 == 0 and i != 0 and i != n:\n",
    "    par += f_numer(a + i*h)\n",
    "\n",
    "  if i%2 != 0:\n",
    "    impar += f_numer(a + i*h)\n",
    "  \n",
    "res = (h/3)*(f_numer(a) + 4*impar + 2*par + f_numer(b))\n",
    "\n",
    "print(f'O valor aproximado da integral é: {res}')\n",
    "\n",
    "# COMPARAÇÃO COM O VALOR DA INTEGRAL\n",
    "\n",
    "F = sp.integrate(f,(x,a,b)).evalf()     # A função .evalf() é para deixar em decimal\n",
    "print(f'\\nO valor exato da integral é: {F}')\n",
    "\n",
    "# SE O VALOR NÃO APARECER, A INTEGRAL É NÃO ELEMENTAR"
   ]
  },
  {
   "cell_type": "code",
   "execution_count": 4,
   "metadata": {},
   "outputs": [
    {
     "name": "stdout",
     "output_type": "stream",
     "text": [
      "O valor aproximado da integral é: 0.7862314660008319\n",
      "\n",
      "O valor exato da integral é: 0.785398163397448\n"
     ]
    }
   ],
   "source": [
    "#REGRA DO PONTO MÉDIO\n",
    "\n",
    "x = sp.symbols('x')\n",
    "\n",
    "f = 1/(x**2 + 1)\n",
    "f_numer = sp.lambdify(x,f)\n",
    "\n",
    "a = 0\n",
    "b = 1\n",
    "n = 5\n",
    "h = (b - a)/n\n",
    "soma = 0\n",
    "\n",
    "for i in np.arange((a+h)/2,b,h):\n",
    "  soma += f_numer(i)\n",
    "\n",
    "res = h*soma\n",
    "\n",
    "print(f'O valor aproximado da integral é: {res}')\n",
    "\n",
    "# COMPARAÇÃO COM O VALOR DA INTEGRAL\n",
    "\n",
    "F = sp.integrate(f,(x,a,b)).evalf()     # A função .evalf() é para deixar em decimal\n",
    "print(f'\\nO valor exato da integral é: {F}')\n",
    "\n",
    "# SE O VALOR NÃO APARECER, A INTEGRAL É NÃO ELEMENTAR"
   ]
  }
 ],
 "metadata": {
  "kernelspec": {
   "display_name": "Python 3",
   "language": "python",
   "name": "python3"
  },
  "language_info": {
   "codemirror_mode": {
    "name": "ipython",
    "version": 3
   },
   "file_extension": ".py",
   "mimetype": "text/x-python",
   "name": "python",
   "nbconvert_exporter": "python",
   "pygments_lexer": "ipython3",
   "version": "3.13.2"
  }
 },
 "nbformat": 4,
 "nbformat_minor": 2
}
